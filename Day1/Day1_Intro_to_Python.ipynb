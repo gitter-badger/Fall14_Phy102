{
 "metadata": {
  "name": "",
  "signature": "sha256:0efb2f0aea2b27689c560e73de12540b477737c100bbb5f3bbf166481b8d8ce2"
 },
 "nbformat": 3,
 "nbformat_minor": 0,
 "worksheets": [
  {
   "cells": [
    {
     "cell_type": "markdown",
     "metadata": {},
     "source": [
      "Author: [Karen Y. Ng](mailto:karenyng@ucdavis.edu)"
     ]
    },
    {
     "cell_type": "heading",
     "level": 1,
     "metadata": {},
     "source": [
      "Welcome to IPython notebook "
     ]
    },
    {
     "cell_type": "markdown",
     "metadata": {},
     "source": [
      "* An IPython notebook has a similar interface to Mathematica. \n",
      "* Each code cell with a gray background can be executed with the keyboard shortcut Shift-Enter \n",
      "* Start by executing (one of) your first IPython notebook cells below by highlighting it with a mouse / keyboard and then press Shift Enter"
     ]
    },
    {
     "cell_type": "markdown",
     "metadata": {},
     "source": [
      "let's try using print statements to print a string"
     ]
    },
    {
     "cell_type": "code",
     "collapsed": false,
     "input": [
      "print \"Hello World\""
     ],
     "language": "python",
     "metadata": {},
     "outputs": []
    },
    {
     "cell_type": "heading",
     "level": 1,
     "metadata": {},
     "source": [
      "Basic Python syntax "
     ]
    },
    {
     "cell_type": "markdown",
     "metadata": {},
     "source": [
      "Python file extension: .py"
     ]
    },
    {
     "cell_type": "heading",
     "level": 3,
     "metadata": {},
     "source": [
      "How to execute a Python code in the terminal"
     ]
    },
    {
     "cell_type": "markdown",
     "metadata": {},
     "source": [
      "we will use $ to denote the terminal character, python is the name of the executable and code.py is the filename of your python code"
     ]
    },
    {
     "cell_type": "markdown",
     "metadata": {},
     "source": [
      "    $python code.py"
     ]
    },
    {
     "cell_type": "heading",
     "level": 3,
     "metadata": {},
     "source": [
      "How to comment out a line"
     ]
    },
    {
     "cell_type": "code",
     "collapsed": false,
     "input": [
      "# this is a comment and when you execute this line \n",
      "# there should be no output\n",
      "# Always reserve a space between the # sign and your comment"
     ],
     "language": "python",
     "metadata": {},
     "outputs": [],
     "prompt_number": 26
    },
    {
     "cell_type": "heading",
     "level": 3,
     "metadata": {},
     "source": [
      "Miscellaneous good Python style practice:"
     ]
    },
    {
     "cell_type": "markdown",
     "metadata": {},
     "source": [
      "If you have time, you can read the [PEP8 documentation](http://legacy.python.org/dev/peps/pep-0008/) to learn about the style guide for writing Python code. It is ok if you follow the PEP8 style guide loosely as you start out. But if you think of developing serious code in the future, you should follow PEP8 closely and use [PEP8 syntax checkers](https://pypi.python.org/pypi/autopep8)."
     ]
    },
    {
     "cell_type": "heading",
     "level": 2,
     "metadata": {},
     "source": [
      "Variable types "
     ]
    },
    {
     "cell_type": "markdown",
     "metadata": {},
     "source": [
      "* integers - number without decmial points \n",
      "* floats - number with decimal points \n",
      "* strings - characters in between either single quotes / double quotes\n",
      "* bool / logical - these are True / False values or 0 / 1 \n"
     ]
    },
    {
     "cell_type": "markdown",
     "metadata": {},
     "source": [
      "In some programming languages, assignment of variables require you to specify the variable types. Python uses dynamical typing, so you do not have to explicitly declare what type of variable you are assignment. **But that does not mean that you should not be aware of the types. A lot of the coding errors are due to using wrong variable types."
     ]
    },
    {
     "cell_type": "heading",
     "level": 2,
     "metadata": {},
     "source": [
      "Operators"
     ]
    },
    {
     "cell_type": "heading",
     "level": 3,
     "metadata": {},
     "source": [
      "Assignment operator "
     ]
    },
    {
     "cell_type": "markdown",
     "metadata": {},
     "source": [
      "There is only one assignment operator in Python, which is    \n",
      "\n",
      "    =\n",
      "\n",
      ":)"
     ]
    },
    {
     "cell_type": "heading",
     "level": 3,
     "metadata": {},
     "source": [
      "Logical operators "
     ]
    },
    {
     "cell_type": "markdown",
     "metadata": {},
     "source": [
      "     == equality operator \n",
      "     != inequality operator \n",
      "     \n",
      "Examples:"
     ]
    },
    {
     "cell_type": "code",
     "collapsed": false,
     "input": [
      "\"Bosons\" == \"Fermions\""
     ],
     "language": "python",
     "metadata": {},
     "outputs": [
      {
       "metadata": {},
       "output_type": "pyout",
       "prompt_number": 4,
       "text": [
        "False"
       ]
      }
     ],
     "prompt_number": 4
    },
    {
     "cell_type": "code",
     "collapsed": false,
     "input": [
      "\"Bosons\" != \"Fermions\""
     ],
     "language": "python",
     "metadata": {},
     "outputs": [
      {
       "metadata": {},
       "output_type": "pyout",
       "prompt_number": 5,
       "text": [
        "True"
       ]
      }
     ],
     "prompt_number": 5
    },
    {
     "cell_type": "heading",
     "level": 3,
     "metadata": {},
     "source": [
      "Coding examples: how to check variable types"
     ]
    },
    {
     "cell_type": "code",
     "collapsed": false,
     "input": [
      "a = 1\n",
      "b = 2.0 \n",
      "c = \"string\" \n",
      "d = True"
     ],
     "language": "python",
     "metadata": {},
     "outputs": [],
     "prompt_number": 10
    },
    {
     "cell_type": "code",
     "collapsed": false,
     "input": [
      "type(a)"
     ],
     "language": "python",
     "metadata": {},
     "outputs": [
      {
       "metadata": {},
       "output_type": "pyout",
       "prompt_number": 12,
       "text": [
        "int"
       ]
      }
     ],
     "prompt_number": 12
    },
    {
     "cell_type": "code",
     "collapsed": false,
     "input": [
      "type(b)"
     ],
     "language": "python",
     "metadata": {},
     "outputs": [
      {
       "metadata": {},
       "output_type": "pyout",
       "prompt_number": 13,
       "text": [
        "float"
       ]
      }
     ],
     "prompt_number": 13
    },
    {
     "cell_type": "code",
     "collapsed": false,
     "input": [
      "type(c)"
     ],
     "language": "python",
     "metadata": {},
     "outputs": [
      {
       "metadata": {},
       "output_type": "pyout",
       "prompt_number": 14,
       "text": [
        "str"
       ]
      }
     ],
     "prompt_number": 14
    },
    {
     "cell_type": "code",
     "collapsed": false,
     "input": [
      "type(d)"
     ],
     "language": "python",
     "metadata": {},
     "outputs": [
      {
       "metadata": {},
       "output_type": "pyout",
       "prompt_number": 15,
       "text": [
        "bool"
       ]
      }
     ],
     "prompt_number": 15
    },
    {
     "cell_type": "heading",
     "level": 3,
     "metadata": {},
     "source": [
      "Coding example with formatting strings: "
     ]
    },
    {
     "cell_type": "code",
     "collapsed": false,
     "input": [
      "h = 6.6260700000000e-34  #J s "
     ],
     "language": "python",
     "metadata": {},
     "outputs": [],
     "prompt_number": 60
    },
    {
     "cell_type": "markdown",
     "metadata": {},
     "source": [
      "You can actually include numbers as part of your string using \"format\""
     ]
    },
    {
     "cell_type": "code",
     "collapsed": false,
     "input": [
      "print \"planck constant = {0} J s\".format(h)"
     ],
     "language": "python",
     "metadata": {},
     "outputs": [
      {
       "output_type": "stream",
       "stream": "stdout",
       "text": [
        "planck constant = 6.62607e-34 J s\n"
       ]
      }
     ],
     "prompt_number": 61
    },
    {
     "cell_type": "markdown",
     "metadata": {},
     "source": [
      "print the answer with 3 significant figures to indicate the precision of the measurement"
     ]
    },
    {
     "cell_type": "code",
     "collapsed": false,
     "input": [
      "print \"planck constant = {0:.3g} J s\".format(h)"
     ],
     "language": "python",
     "metadata": {},
     "outputs": [
      {
       "output_type": "stream",
       "stream": "stdout",
       "text": [
        "planck constant = 6.63e-34 J s\n"
       ]
      }
     ],
     "prompt_number": 53
    },
    {
     "cell_type": "markdown",
     "metadata": {},
     "source": [
      "print the answer up to 35 decimal places instead"
     ]
    },
    {
     "cell_type": "code",
     "collapsed": false,
     "input": [
      "print \"planck constant = {0:.35f} J s\".format(h)"
     ],
     "language": "python",
     "metadata": {},
     "outputs": [
      {
       "output_type": "stream",
       "stream": "stdout",
       "text": [
        "planck constant = 0.00000000000000000000000000000000066 J s\n"
       ]
      }
     ],
     "prompt_number": 56
    },
    {
     "cell_type": "heading",
     "level": 2,
     "metadata": {},
     "source": [
      "Control statements"
     ]
    },
    {
     "cell_type": "markdown",
     "metadata": {},
     "source": [
      "example for the control statement "
     ]
    },
    {
     "cell_type": "heading",
     "level": 3,
     "metadata": {},
     "source": [
      "if - else "
     ]
    },
    {
     "cell_type": "code",
     "collapsed": false,
     "input": [
      "observed = True\n",
      "if observed: \n",
      "    print \"My wavefunction has collapsed\" \n",
      "else: \n",
      "    print \"My wavefunction has not collapsed yet!\""
     ],
     "language": "python",
     "metadata": {},
     "outputs": [
      {
       "output_type": "stream",
       "stream": "stdout",
       "text": [
        "My wavefunction has collapsed\n"
       ]
      }
     ],
     "prompt_number": 17
    },
    {
     "cell_type": "heading",
     "level": 3,
     "metadata": {},
     "source": [
      "while "
     ]
    },
    {
     "cell_type": "code",
     "collapsed": false,
     "input": [
      "sleepiness = 0\n",
      "while(sleepiness < 10): \n",
      "    print \"Do awesome physics\" \n",
      "    # the integer increment operator in Python is += \n",
      "    sleepiness += 1 "
     ],
     "language": "python",
     "metadata": {},
     "outputs": [
      {
       "output_type": "stream",
       "stream": "stdout",
       "text": [
        "Do awesome physics\n",
        "Do awesome physics\n",
        "Do awesome physics\n",
        "Do awesome physics\n",
        "Do awesome physics\n",
        "Do awesome physics\n",
        "Do awesome physics\n",
        "Do awesome physics\n",
        "Do awesome physics\n",
        "Do awesome physics\n"
       ]
      }
     ],
     "prompt_number": 59
    },
    {
     "cell_type": "heading",
     "level": 4,
     "metadata": {},
     "source": [
      "Indentation matters "
     ]
    },
    {
     "cell_type": "markdown",
     "metadata": {},
     "source": [
      "* the scope of contained inside the \"if\" statement begins with the next indented lines\n",
      "* each level of indentation consists of 4 additional space preceeding the line"
     ]
    },
    {
     "cell_type": "heading",
     "level": 3,
     "metadata": {},
     "source": [
      "Numerical operators"
     ]
    },
    {
     "cell_type": "markdown",
     "metadata": {},
     "source": [
      "    + addition\n",
      "    - subtraction \n",
      "    / division \n",
      "    * multiplication \n",
      "    ** exponent, i.e. a ** b means a to the power b or you can use \n",
      "    pow(a, b)"
     ]
    },
    {
     "cell_type": "code",
     "collapsed": false,
     "input": [
      "pow(10, 3) == 10 ** 3"
     ],
     "language": "python",
     "metadata": {},
     "outputs": [
      {
       "metadata": {},
       "output_type": "pyout",
       "prompt_number": 7,
       "text": [
        "True"
       ]
      }
     ],
     "prompt_number": 7
    },
    {
     "cell_type": "code",
     "collapsed": false,
     "input": [
      "print pow(10, 3)"
     ],
     "language": "python",
     "metadata": {},
     "outputs": [
      {
       "output_type": "stream",
       "stream": "stdout",
       "text": [
        "1000\n"
       ]
      }
     ],
     "prompt_number": 8
    },
    {
     "cell_type": "heading",
     "level": 3,
     "metadata": {},
     "source": [
      "Coding exercise"
     ]
    },
    {
     "cell_type": "markdown",
     "metadata": {},
     "source": [
      "What answer do you expect to get from the following line?"
     ]
    },
    {
     "cell_type": "code",
     "collapsed": false,
     "input": [
      "1 / 3"
     ],
     "language": "python",
     "metadata": {},
     "outputs": [
      {
       "metadata": {},
       "output_type": "pyout",
       "prompt_number": 1,
       "text": [
        "0"
       ]
      }
     ],
     "prompt_number": 1
    },
    {
     "cell_type": "markdown",
     "metadata": {},
     "source": [
      "this could exist out of Python for other languages "
     ]
    },
    {
     "cell_type": "code",
     "collapsed": false,
     "input": [
      "1. / 3 "
     ],
     "language": "python",
     "metadata": {},
     "outputs": [
      {
       "metadata": {},
       "output_type": "pyout",
       "prompt_number": 2,
       "text": [
        "0.3333333333333333"
       ]
      }
     ],
     "prompt_number": 2
    },
    {
     "cell_type": "markdown",
     "metadata": {},
     "source": [
      "How about the following? "
     ]
    },
    {
     "cell_type": "code",
     "collapsed": false,
     "input": [
      "1 / 3. "
     ],
     "language": "python",
     "metadata": {},
     "outputs": []
    },
    {
     "cell_type": "heading",
     "level": 3,
     "metadata": {},
     "source": [
      "Best practice: "
     ]
    },
    {
     "cell_type": "markdown",
     "metadata": {},
     "source": [
      "always add a \".\" after all your numbers if you want a float to the resulting variable type "
     ]
    },
    {
     "cell_type": "code",
     "collapsed": false,
     "input": [
      "1. / 3. "
     ],
     "language": "python",
     "metadata": {},
     "outputs": [
      {
       "metadata": {},
       "output_type": "pyout",
       "prompt_number": 9,
       "text": [
        "0.3333333333333333"
       ]
      }
     ],
     "prompt_number": 9
    },
    {
     "cell_type": "markdown",
     "metadata": {},
     "source": [
      "or you can use the following line as the first line of your Python code:\n",
      "\n",
      "    from __future__ import division\n",
      "\n",
      "and if you do this, all the results from a division will give a float as output"
     ]
    },
    {
     "cell_type": "heading",
     "level": 3,
     "metadata": {},
     "source": [
      "Basic data structures: "
     ]
    },
    {
     "cell_type": "markdown",
     "metadata": {},
     "source": [
      "* tuples - ( ) this is an immutable type \n",
      "* list - [ ] each list can contain different types of variables and is mutable\n",
      "* dictionary - {} various key-value pairs and is also mutable"
     ]
    },
    {
     "cell_type": "heading",
     "level": 1,
     "metadata": {},
     "source": [
      "Assignment for the week:"
     ]
    },
    {
     "cell_type": "markdown",
     "metadata": {},
     "source": [
      "Due: 10 / 14, 12:00 a.m.\n",
      "* download the assignment code from \n",
      "* rename the given example Python code to be:   \n",
      "\n",
      "    your_last_name.py\n",
      "    \n",
      "    \n",
      "* debug and modify some of the content         "
     ]
    },
    {
     "cell_type": "markdown",
     "metadata": {},
     "source": [
      "Checking for right answers:"
     ]
    },
    {
     "cell_type": "markdown",
     "metadata": {},
     "source": [
      "* you can check your answers with check_output.txt that you can download at: "
     ]
    },
    {
     "cell_type": "markdown",
     "metadata": {},
     "source": [
      "At the terminal, do:"
     ]
    },
    {
     "cell_type": "markdown",
     "metadata": {},
     "source": [
      "    $python your_last_name.py > my_ans.txt"
     ]
    },
    {
     "cell_type": "markdown",
     "metadata": {},
     "source": [
      "this will save the outputs of your python code into my_ans.txt"
     ]
    },
    {
     "cell_type": "markdown",
     "metadata": {},
     "source": [
      "Check if the answers are correct by:"
     ]
    },
    {
     "cell_type": "markdown",
     "metadata": {},
     "source": [
      "    $diff my_ans.txt check_output.txt"
     ]
    },
    {
     "cell_type": "markdown",
     "metadata": {},
     "source": [
      "if it does not return any output, the two files are identical and you are good to submit your python code via SmartSite."
     ]
    },
    {
     "cell_type": "markdown",
     "metadata": {},
     "source": [
      "When we grade your python code, additional code will be used to check your steps, do not attempt to just format your output of your python code to be identical to check_output.txt."
     ]
    }
   ],
   "metadata": {}
  }
 ]
}