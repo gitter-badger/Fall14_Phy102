{
 "metadata": {
  "name": ""
 },
 "nbformat": 3,
 "nbformat_minor": 0,
 "worksheets": [
  {
   "cells": [
    {
     "cell_type": "markdown",
     "metadata": {},
     "source": [
      "<h1>Lab 1: Intro to Python</h1>\n",
      "<h2>Physics 102 - Fall 2014</h2>\n",
      "\n",
      "<h4>Learning Objectives:</h4>\n",
      "At the end of this lab, you will be able to:\n",
      "<ul>\n",
      "    <li>Run previously written Python code and create your own code in an IPython notebook.</li>\n",
      "    <li>Describe commonly used Python data types and the differences between them.</li>\n",
      "    <li>Perform basic numerical calculations in Python.</li>\n",
      "    <li>Create collections of objects and manipulate the contents in Python.</li>\n",
      "    <li>Use if, then, and else statements to control the flow of a Python program.</li>\n",
      "    <li>Create code loops in Python using for, while, and list comprehension.</li>\n",
      "</ul> "
     ]
    },
    {
     "cell_type": "markdown",
     "metadata": {},
     "source": [
      "<h3>The IPython Notebook</h3>\n",
      "\n",
      "Welcome to the IPython notebook. The IPython notebook provides a Mathematica like interface to python and allows for code, text, and figures to be placed in the same document. We will be using IPython notebooks along with code files written in Python for the homework.\n"
     ]
    },
    {
     "cell_type": "markdown",
     "metadata": {},
     "source": [
      "An IPython notebook consists of a series of cells that can contain text or Python code. This is a text cell. You can edit a text cell by double-clicking on it. A text cell can contain HTML or $\\LaTeX$ commands to change the appearance of the text."
     ]
    },
    {
     "cell_type": "markdown",
     "metadata": {},
     "source": [
      "Double click on this cell and add your name.<br>\n",
      "\n",
      "My Name is:"
     ]
    },
    {
     "cell_type": "markdown",
     "metadata": {},
     "source": [
      "Code cells begin with <code> In [ ]:</code> and have a grey background. You can run the code in a cell by pressing SHIFT+ENTER. Run the code in the cell below."
     ]
    },
    {
     "cell_type": "code",
     "collapsed": false,
     "input": [
      "1+1"
     ],
     "language": "python",
     "metadata": {},
     "outputs": []
    },
    {
     "cell_type": "markdown",
     "metadata": {},
     "source": [
      "Notice when you run the code, the beginning of the cell changes to <code> In [1]:</code>. What happens when you run the cell again?"
     ]
    },
    {
     "cell_type": "markdown",
     "metadata": {},
     "source": [
      "The number in the brackets is the order in which the code was run. When there is a 1 in the brackets it means that this was the first cell ran in the notebook. When there is a 2, then it was the second cell ran in the notebook. This is very important. In an IPython notebook the order of execution is what matters, not the order in which they appear in the notebook."
     ]
    },
    {
     "cell_type": "markdown",
     "metadata": {},
     "source": [
      "Run the following lines of code, starting with the bottom and working your way up."
     ]
    },
    {
     "cell_type": "code",
     "collapsed": false,
     "input": [
      "b*b"
     ],
     "language": "python",
     "metadata": {},
     "outputs": []
    },
    {
     "cell_type": "code",
     "collapsed": false,
     "input": [
      "b=2*a\n",
      "print b"
     ],
     "language": "python",
     "metadata": {},
     "outputs": []
    },
    {
     "cell_type": "code",
     "collapsed": false,
     "input": [
      "a=1+1\n",
      "print a"
     ],
     "language": "python",
     "metadata": {},
     "outputs": []
    },
    {
     "cell_type": "markdown",
     "metadata": {},
     "source": [
      "Also you can have multiple lines of code in a single cell (This is why we have to use SHIFT+RETURN to run the code in a cell). "
     ]
    },
    {
     "cell_type": "code",
     "collapsed": false,
     "input": [
      "a=1+1\n",
      "b=2*a\n",
      "b*b"
     ],
     "language": "python",
     "metadata": {},
     "outputs": []
    },
    {
     "cell_type": "markdown",
     "metadata": {},
     "source": [
      "Notice how even though there are multiple lines of code in a cell, only the output from the last line is shown."
     ]
    },
    {
     "cell_type": "markdown",
     "metadata": {},
     "source": [
      "At the top of the notebook there are several icons. These allow you to:\n",
      "<ul>\n",
      "    <li>Save your notebook</li>\n",
      "    <li>Cut, copy, and paste cells</li>\n",
      "    <li>Change the order of cells</li>\n",
      "    <li>Create new cells</li>\n",
      "    <li>Run or interrupt cells</li>\n",
      "</ul>"
     ]
    },
    {
     "cell_type": "markdown",
     "metadata": {},
     "source": [
      "You can also change the type of a cell using the drop-down box."
     ]
    },
    {
     "cell_type": "markdown",
     "metadata": {},
     "source": [
      "Create a new cell below this one. In your newly created cell type <code> print \"Hello World\" </code> and run it.<br> <br> <br>"
     ]
    },
    {
     "cell_type": "markdown",
     "metadata": {},
     "source": [
      "You have just written your fist Python code. Before we get too far, you should know how to write comments in Python. Anything occuring after <code> # </code> on a line is considered a comment. Change the markdown cell below to a code cell and run it."
     ]
    },
    {
     "cell_type": "markdown",
     "metadata": {},
     "source": [
      "# Comments can go on their own line\n",
      "print \"Hello World\" #or after a short peice of code"
     ]
    },
    {
     "cell_type": "markdown",
     "metadata": {},
     "source": [
      "Comments are extremely important and can help you and others understand what your code is supposed to do. Even if you are the only one who will ever see your code, comments can be very helpful if you find there is an error in your code."
     ]
    },
    {
     "cell_type": "markdown",
     "metadata": {},
     "source": [
      "<h3>Data Types</h3>"
     ]
    },
    {
     "cell_type": "markdown",
     "metadata": {},
     "source": [
      "In python there are many data types. You should with the following common data types. You can find the data type of any python object using the <code> type() </code> command."
     ]
    },
    {
     "cell_type": "markdown",
     "metadata": {},
     "source": [
      "Run the code in the following cells"
     ]
    },
    {
     "cell_type": "code",
     "collapsed": false,
     "input": [
      "type(1)"
     ],
     "language": "python",
     "metadata": {},
     "outputs": []
    },
    {
     "cell_type": "code",
     "collapsed": false,
     "input": [
      "type(1.)"
     ],
     "language": "python",
     "metadata": {},
     "outputs": []
    },
    {
     "cell_type": "code",
     "collapsed": false,
     "input": [
      "type(True)"
     ],
     "language": "python",
     "metadata": {},
     "outputs": []
    },
    {
     "cell_type": "code",
     "collapsed": false,
     "input": [
      "type('t')"
     ],
     "language": "python",
     "metadata": {},
     "outputs": []
    },
    {
     "cell_type": "markdown",
     "metadata": {},
     "source": [
      "These are the four most common data types and we will go into the differences between int and float, but first we need to introduce some operations."
     ]
    },
    {
     "cell_type": "markdown",
     "metadata": {},
     "source": [
      "<h3>Operations</h3>"
     ]
    },
    {
     "cell_type": "markdown",
     "metadata": {},
     "source": [
      "Python natively supports all basic algebraic operations and can be used as a calculator. Run the following cells."
     ]
    },
    {
     "cell_type": "code",
     "collapsed": false,
     "input": [
      "10+3 #Addition"
     ],
     "language": "python",
     "metadata": {},
     "outputs": []
    },
    {
     "cell_type": "code",
     "collapsed": false,
     "input": [
      "10-3 #Subtraction"
     ],
     "language": "python",
     "metadata": {},
     "outputs": []
    },
    {
     "cell_type": "code",
     "collapsed": false,
     "input": [
      "10*3 #Multiplication"
     ],
     "language": "python",
     "metadata": {},
     "outputs": []
    },
    {
     "cell_type": "code",
     "collapsed": false,
     "input": [
      "10/3 #Divsion"
     ],
     "language": "python",
     "metadata": {},
     "outputs": []
    },
    {
     "cell_type": "markdown",
     "metadata": {},
     "source": [
      "Did the output of the last cell suprise you? This is where we get into some of the differences between integers and floats. The basic algebraic operations are designed to take one data type and return the same data type. So <code>10/2</code> takes two integers and returns an integer. If you want to get a decimal answer (a float) you need to give division floats. This is very important to remember and will be the cause of several headaches this quarter."
     ]
    },
    {
     "cell_type": "code",
     "collapsed": false,
     "input": [
      "10./3."
     ],
     "language": "python",
     "metadata": {},
     "outputs": []
    },
    {
     "cell_type": "markdown",
     "metadata": {},
     "source": [
      "Python can also perform exponential operations, but the syntax is different. Rather than using <code>^</code>, Python uses <code>**</code> for the exponential operation. This is because <code>^</code> is the bitwise XOR operation. Please remember this or it will cause you problems this quarter."
     ]
    },
    {
     "cell_type": "code",
     "collapsed": false,
     "input": [
      "3**2 #This is the one you want."
     ],
     "language": "python",
     "metadata": {},
     "outputs": []
    },
    {
     "cell_type": "code",
     "collapsed": false,
     "input": [
      "3^2"
     ],
     "language": "python",
     "metadata": {},
     "outputs": []
    },
    {
     "cell_type": "code",
     "collapsed": false,
     "input": [
      "1^0"
     ],
     "language": "python",
     "metadata": {},
     "outputs": []
    },
    {
     "cell_type": "code",
     "collapsed": false,
     "input": [
      "0^1"
     ],
     "language": "python",
     "metadata": {},
     "outputs": []
    },
    {
     "cell_type": "code",
     "collapsed": false,
     "input": [
      "1^1"
     ],
     "language": "python",
     "metadata": {},
     "outputs": []
    },
    {
     "cell_type": "markdown",
     "metadata": {},
     "source": [
      "In addition to algebraic operations, we can compare values. The following cells give examples of the basic comparison operators in Python."
     ]
    },
    {
     "cell_type": "code",
     "collapsed": false,
     "input": [
      "1==1 #Equal to"
     ],
     "language": "python",
     "metadata": {},
     "outputs": []
    },
    {
     "cell_type": "code",
     "collapsed": false,
     "input": [
      "1!=1 #Not equal to"
     ],
     "language": "python",
     "metadata": {},
     "outputs": []
    },
    {
     "cell_type": "code",
     "collapsed": false,
     "input": [
      "1>2 #Greater than"
     ],
     "language": "python",
     "metadata": {},
     "outputs": []
    },
    {
     "cell_type": "code",
     "collapsed": false,
     "input": [
      "1>=2 #Greater than or equal to"
     ],
     "language": "python",
     "metadata": {},
     "outputs": []
    },
    {
     "cell_type": "code",
     "collapsed": false,
     "input": [
      "1<2 #Less than"
     ],
     "language": "python",
     "metadata": {},
     "outputs": []
    },
    {
     "cell_type": "code",
     "collapsed": false,
     "input": [
      "1<=2 #Less than or equal to"
     ],
     "language": "python",
     "metadata": {},
     "outputs": []
    },
    {
     "cell_type": "code",
     "collapsed": false,
     "input": [
      "1 == 1."
     ],
     "language": "python",
     "metadata": {},
     "outputs": []
    },
    {
     "cell_type": "markdown",
     "metadata": {},
     "source": [
      "Comparisons can be combined using <code>or</code> and <code>and</code>."
     ]
    },
    {
     "cell_type": "code",
     "collapsed": false,
     "input": [
      "x=2\n",
      "\n",
      "x<1 or x>3"
     ],
     "language": "python",
     "metadata": {},
     "outputs": []
    },
    {
     "cell_type": "code",
     "collapsed": false,
     "input": [
      "x=2\n",
      "\n",
      "x>1 and x<3"
     ],
     "language": "python",
     "metadata": {},
     "outputs": []
    },
    {
     "cell_type": "markdown",
     "metadata": {},
     "source": [
      "Python follows the standard order of operations. Parenthesis can be used to change the order in which opperations are applied."
     ]
    },
    {
     "cell_type": "code",
     "collapsed": false,
     "input": [
      "1.+3.*5./7."
     ],
     "language": "python",
     "metadata": {},
     "outputs": []
    },
    {
     "cell_type": "code",
     "collapsed": false,
     "input": [
      "(1.+3.)*5/7"
     ],
     "language": "python",
     "metadata": {},
     "outputs": []
    },
    {
     "cell_type": "code",
     "collapsed": false,
     "input": [
      "True or False and False and True"
     ],
     "language": "python",
     "metadata": {},
     "outputs": []
    },
    {
     "cell_type": "code",
     "collapsed": false,
     "input": [
      "(True or False) and (False and True)"
     ],
     "language": "python",
     "metadata": {},
     "outputs": []
    },
    {
     "cell_type": "markdown",
     "metadata": {},
     "source": [
      "Once we compute a value, we typically store that value by assigning it to a variable. This can be because we want to use it later, or because we want to do something else with that value. In Python you can assign a value to a variable using <code>=</code>. Python variable names can contain letters or numbers, but must begin with a letter. The only symbol allowed in a variable name is an underscore \"_\". Run the following cell."
     ]
    },
    {
     "cell_type": "code",
     "collapsed": false,
     "input": [
      "x=1\n",
      "R3A11Y_W31RD_NAM3=2"
     ],
     "language": "python",
     "metadata": {},
     "outputs": []
    },
    {
     "cell_type": "markdown",
     "metadata": {},
     "source": [
      "Try running the following cell."
     ]
    },
    {
     "cell_type": "code",
     "collapsed": false,
     "input": [
      "1st_variable=2"
     ],
     "language": "python",
     "metadata": {},
     "outputs": []
    },
    {
     "cell_type": "markdown",
     "metadata": {},
     "source": [
      "This is an example of an error. We will go into errors a little bit later, but typically an error means that there is a problem with your code. In this case, we were trying to use an invalid variable name."
     ]
    },
    {
     "cell_type": "markdown",
     "metadata": {},
     "source": [
      "Variable assignment is one area where the order in which cells are run is very important. In code, it can be useful to reuse a variable name the value of a variable will be whatever it was last assigned to. Run the following cells in any order."
     ]
    },
    {
     "cell_type": "code",
     "collapsed": false,
     "input": [
      "x=2"
     ],
     "language": "python",
     "metadata": {},
     "outputs": []
    },
    {
     "cell_type": "code",
     "collapsed": false,
     "input": [
      "x=3"
     ],
     "language": "python",
     "metadata": {},
     "outputs": []
    },
    {
     "cell_type": "code",
     "collapsed": false,
     "input": [
      "x=1"
     ],
     "language": "python",
     "metadata": {},
     "outputs": []
    },
    {
     "cell_type": "markdown",
     "metadata": {},
     "source": [
      "Now run the following cell."
     ]
    },
    {
     "cell_type": "code",
     "collapsed": false,
     "input": [
      "print x"
     ],
     "language": "python",
     "metadata": {},
     "outputs": []
    },
    {
     "cell_type": "markdown",
     "metadata": {},
     "source": [
      "Notice how the current value of x is the value assigned in the cell which was ran most recently."
     ]
    },
    {
     "cell_type": "markdown",
     "metadata": {},
     "source": [
      "Python does something a little different with assignment than some other languages. Most of the times it does not make much differece, but you need to be aware of it. Run the following cell."
     ]
    },
    {
     "cell_type": "code",
     "collapsed": false,
     "input": [
      "a=1\n",
      "b=2\n",
      "c=a+b\n",
      "print c\n",
      "d=c\n",
      "c=c+1\n",
      "print d"
     ],
     "language": "python",
     "metadata": {},
     "outputs": []
    },
    {
     "cell_type": "markdown",
     "metadata": {},
     "source": [
      "Notice how in this cases chaging the value of c also changed the value of d. This is because of how Python deals with the assignment. Rather than creating a bin with the label a and storing 1 in that bin, Python stores the object 1 somewhere in memory and lets us retreive that object using the name a. This is important because it allows Python to manage memory and garbage collection for us. This means less work for you. When you write <code>d=c</code>, Python associates d with the object associated with c, and allows d to be used to retrive the object. WARNING <code>d=c</code> does not put a copy of c in d."
     ]
    },
    {
     "cell_type": "code",
     "collapsed": false,
     "input": [
      "a=1 #Store the integer object 1 and make a point to that object\n",
      "b=2 #Store the integer object 2 and make b point to that object\n",
      "c=a+b #Calculate the sum of the objects that a and b point to and store that object. Make c point to that object.\n",
      "print c #Print the object that c points to\n",
      "d=c #Make d point to the same object that c points to\n",
      "c=c+1 #Add 1 to the object that c points to (which is the same object d points to)\n",
      "print d #Print the object that d points to"
     ],
     "language": "python",
     "metadata": {},
     "outputs": []
    },
    {
     "cell_type": "markdown",
     "metadata": {},
     "source": [
      "Python is a dynamically typed language which means that you do not have to declare what type of object you are storing in a variable. This is important because YOU have to keep track of what type of objects you are dealing with. In return, you never have to deal with casting in Python. You can give Python an expression and it tries to make sense of it. If it can, it returns the answer, if not it will return an error instead. This can be very powerful but means that you have to make sure you pay attention to what you are doing or you might have a bug that is very difficult to track. Run the following cells to see some powerful and strange examples of dynamic typing."
     ]
    },
    {
     "cell_type": "code",
     "collapsed": false,
     "input": [
      "1==1."
     ],
     "language": "python",
     "metadata": {},
     "outputs": []
    },
    {
     "cell_type": "code",
     "collapsed": false,
     "input": [
      "10/3."
     ],
     "language": "python",
     "metadata": {},
     "outputs": []
    },
    {
     "cell_type": "code",
     "collapsed": false,
     "input": [
      "10./3"
     ],
     "language": "python",
     "metadata": {},
     "outputs": []
    },
    {
     "cell_type": "code",
     "collapsed": false,
     "input": [
      "10*False"
     ],
     "language": "python",
     "metadata": {},
     "outputs": []
    },
    {
     "cell_type": "code",
     "collapsed": false,
     "input": [
      "10/True"
     ],
     "language": "python",
     "metadata": {},
     "outputs": []
    },
    {
     "cell_type": "markdown",
     "metadata": {},
     "source": [
      "What if we wanted the first statment to return False because 1 is not 1. In Python there is another command provided for checking equality. The command <code>==</code> checks whether the values of the two objects are equal. The command <code>is</code> checks whethere the identities of the two objects are equal. Evaluate the following cells."
     ]
    },
    {
     "cell_type": "code",
     "collapsed": false,
     "input": [
      "1 is 1."
     ],
     "language": "python",
     "metadata": {},
     "outputs": []
    },
    {
     "cell_type": "code",
     "collapsed": false,
     "input": [
      "a = 1\n",
      "b = 1\n",
      "a is b"
     ],
     "language": "python",
     "metadata": {},
     "outputs": []
    },
    {
     "cell_type": "markdown",
     "metadata": {},
     "source": [
      "Notice how the last command reads like a sentence. This is just one example of the ways Python tries to make code easier to read."
     ]
    },
    {
     "cell_type": "markdown",
     "metadata": {},
     "source": [
      "So far you have seen how these operations work with integers, floats, and bools. Now lets look at what how these operations work withs strings."
     ]
    },
    {
     "cell_type": "markdown",
     "metadata": {},
     "source": [
      "We can use all the comparison operations for strings. When doing comparisons, Python uses alphabetic ordering."
     ]
    },
    {
     "cell_type": "code",
     "collapsed": false,
     "input": [
      "'abcdefghijklmnopqrstuvwxyz'=='abcdefhijklmnopqrstuvwxyz'"
     ],
     "language": "python",
     "metadata": {},
     "outputs": []
    },
    {
     "cell_type": "code",
     "collapsed": false,
     "input": [
      "print 'abcdefghijklmnopqrstuvwxyz'<'abcdefhijklmnopqrstuvwxyz'"
     ],
     "language": "python",
     "metadata": {},
     "outputs": []
    },
    {
     "cell_type": "markdown",
     "metadata": {},
     "source": [
      "The only algebraic operation we can use with strings is addition, but the result is probably not what you would expect."
     ]
    },
    {
     "cell_type": "code",
     "collapsed": false,
     "input": [
      "'ab'+'c'"
     ],
     "language": "python",
     "metadata": {},
     "outputs": []
    },
    {
     "cell_type": "markdown",
     "metadata": {},
     "source": [
      "<h3>Collections</h3>"
     ]
    },
    {
     "cell_type": "markdown",
     "metadata": {},
     "source": [
      "<h4>Lists</h4>"
     ]
    },
    {
     "cell_type": "markdown",
     "metadata": {},
     "source": [
      "Rather that working with single numbers or letters, we often want to work with groups of numbers and groups of letters. To make working with groups easier, Python contains several containers."
     ]
    },
    {
     "cell_type": "markdown",
     "metadata": {},
     "source": [
      "The simplest Python container is a list. You can create a list by enclosing the items you want to store in the list in square brackets []. The objects in a list do not have to be of the same type."
     ]
    },
    {
     "cell_type": "code",
     "collapsed": false,
     "input": [
      "my_list = [1, 'a', True, 3.14, 10]\n",
      "print my_list"
     ],
     "language": "python",
     "metadata": {},
     "outputs": []
    },
    {
     "cell_type": "markdown",
     "metadata": {},
     "source": [
      "We can create an empty list using just the brackets []."
     ]
    },
    {
     "cell_type": "code",
     "collapsed": false,
     "input": [
      "empty_list=[]\n",
      "print empty_list"
     ],
     "language": "python",
     "metadata": {},
     "outputs": []
    },
    {
     "cell_type": "markdown",
     "metadata": {},
     "source": [
      "You can retrive any item from a list using brackets and an index. Python indexes start with 0."
     ]
    },
    {
     "cell_type": "code",
     "collapsed": false,
     "input": [
      "print my_list[0] # print the first element of the list\n",
      "print my_list[3] # print the (n+1) fourth element of the list."
     ],
     "language": "python",
     "metadata": {},
     "outputs": []
    },
    {
     "cell_type": "markdown",
     "metadata": {},
     "source": [
      "Python also allows you to index from the end of a list using negative indices with -1 refering to the last element in the list. "
     ]
    },
    {
     "cell_type": "code",
     "collapsed": false,
     "input": [
      "print my_list[-1] #print the last element of the list\n",
      "print my_list[-4] #print the fourth to last element of the list"
     ],
     "language": "python",
     "metadata": {},
     "outputs": []
    },
    {
     "cell_type": "markdown",
     "metadata": {},
     "source": [
      "One of the more powerful features of Python is slicing. In python you can \"slice\" a range out of a list using a colon \"list[start:stop]\". Python will return all elements with indices beween the two indecies. Python returns the element with the first index in the slice but not the element with the last index in the slice. If one index in the slice is not given then the returned list will include all elements before or after the given index"
     ]
    },
    {
     "cell_type": "code",
     "collapsed": false,
     "input": [
      "print my_list[1:] # print the first element and all elements after it \n",
      "print my_list[-3:] # print the third element from the end and all elements after it\n",
      "print my_list[2:4] # print the second and third (but not the fourth) element\n",
      "print my_list[-3:-1] #print the thrid element from the end and all elements beween it and the last element"
     ],
     "language": "python",
     "metadata": {},
     "outputs": []
    },
    {
     "cell_type": "markdown",
     "metadata": {},
     "source": [
      "Lists are mutable, meaning that we can change the values of a list."
     ]
    },
    {
     "cell_type": "code",
     "collapsed": false,
     "input": [
      "my_list=[0,1,2,3,4,5,6]\n",
      "my_list[1]=True\n",
      "print my_list"
     ],
     "language": "python",
     "metadata": {},
     "outputs": []
    },
    {
     "cell_type": "markdown",
     "metadata": {},
     "source": [
      "Multiple values can be changed at the same time."
     ]
    },
    {
     "cell_type": "code",
     "collapsed": false,
     "input": [
      "my_list=[0,1,2,3,4,5,6]\n",
      "my_list[1:3] = [9,9]\n",
      "print my_list"
     ],
     "language": "python",
     "metadata": {},
     "outputs": []
    },
    {
     "cell_type": "markdown",
     "metadata": {},
     "source": [
      "When changing multiple values, all elements in the slice are replaced with the new list. This can change the length of the list."
     ]
    },
    {
     "cell_type": "code",
     "collapsed": false,
     "input": [
      "my_list=[0,1,2,3,4,5,6]\n",
      "my_list[1:5] = [9,9]\n",
      "print my_list"
     ],
     "language": "python",
     "metadata": {},
     "outputs": []
    },
    {
     "cell_type": "markdown",
     "metadata": {},
     "source": [
      "This can be used to insert elements into a list."
     ]
    },
    {
     "cell_type": "code",
     "collapsed": false,
     "input": [
      "my_list=[0,1,2,3,4,5,6]\n",
      "my_list[3:3]=[10,20,30]\n",
      "print my_list"
     ],
     "language": "python",
     "metadata": {},
     "outputs": []
    },
    {
     "cell_type": "markdown",
     "metadata": {},
     "source": [
      "We can use the <code>len()</code> command to get the size of the list."
     ]
    },
    {
     "cell_type": "code",
     "collapsed": false,
     "input": [
      "len(my_list)"
     ],
     "language": "python",
     "metadata": {},
     "outputs": []
    },
    {
     "cell_type": "markdown",
     "metadata": {},
     "source": [
      "It is important to remember that the last element in the list has index len()-1."
     ]
    },
    {
     "cell_type": "code",
     "collapsed": false,
     "input": [
      "print my_list[len(my_list)]"
     ],
     "language": "python",
     "metadata": {},
     "outputs": []
    },
    {
     "cell_type": "markdown",
     "metadata": {},
     "source": [
      "To add an element to the end of a list you can use the append() method."
     ]
    },
    {
     "cell_type": "code",
     "collapsed": false,
     "input": [
      "my_list=[0,1,2,3]\n",
      "print my_list\n",
      "\n",
      "my_list.append(4)\n",
      "print my_list\n",
      "\n",
      "my_list.append(5)\n",
      "print my_list"
     ],
     "language": "python",
     "metadata": {},
     "outputs": []
    },
    {
     "cell_type": "markdown",
     "metadata": {},
     "source": [
      "Two lists can be joined using +."
     ]
    },
    {
     "cell_type": "code",
     "collapsed": false,
     "input": [
      "list_1=[0,1,2,3]\n",
      "list_2=[4,5,6,7]\n",
      "list_3=list_1+list_2\n",
      "\n",
      "print list_3"
     ],
     "language": "python",
     "metadata": {},
     "outputs": []
    },
    {
     "cell_type": "markdown",
     "metadata": {},
     "source": [
      "<h4>Tuples</h4>"
     ]
    },
    {
     "cell_type": "markdown",
     "metadata": {},
     "source": [
      "Another tuple is another type of collection which has all the properties of a list except that it is immutable. This means that once created it cannot be changed. You cannot change the length or edit the elements of a tuple. Tuples are created using parenthesis."
     ]
    },
    {
     "cell_type": "code",
     "collapsed": false,
     "input": [
      "my_tuple=(1, 'a', True, 3.14, 10)\n",
      "\n",
      "print my_tuple\n",
      "\n",
      "print my_tuple[1:-1]\n"
     ],
     "language": "python",
     "metadata": {},
     "outputs": []
    },
    {
     "cell_type": "code",
     "collapsed": false,
     "input": [
      "my_tuple[1]='r'"
     ],
     "language": "python",
     "metadata": {},
     "outputs": []
    },
    {
     "cell_type": "code",
     "collapsed": false,
     "input": [
      "my_tuple.append(1)"
     ],
     "language": "python",
     "metadata": {},
     "outputs": []
    },
    {
     "cell_type": "markdown",
     "metadata": {},
     "source": [
      "If you need to edit a tuple, you must create a new tuple. "
     ]
    },
    {
     "cell_type": "code",
     "collapsed": false,
     "input": [
      "tuple_1 = (0,1,2)\n",
      "\n",
      "tuple_2 = tuple_1[0:-1]+(4,)\n",
      "\n",
      "print tuple_2"
     ],
     "language": "python",
     "metadata": {},
     "outputs": []
    },
    {
     "cell_type": "markdown",
     "metadata": {},
     "source": [
      "<h4>Strings</h4>"
     ]
    },
    {
     "cell_type": "markdown",
     "metadata": {},
     "source": [
      "Strings can be thought of as a tuple of characters. We can use string addition and slicing just like with lists and tuples."
     ]
    },
    {
     "cell_type": "code",
     "collapsed": false,
     "input": [
      "my_string='abcdefghijklmnopqrstuvwxyz'\n",
      "\n",
      "print len(my_string)\n",
      "print my_string[5:]\n",
      "print my_string[5:-5]\n",
      "print my_string+my_string"
     ],
     "language": "python",
     "metadata": {},
     "outputs": []
    },
    {
     "cell_type": "markdown",
     "metadata": {},
     "source": [
      "Like tuples, strings are immutable and cannot be edited."
     ]
    },
    {
     "cell_type": "code",
     "collapsed": false,
     "input": [
      "my_string[1]='a'"
     ],
     "language": "python",
     "metadata": {},
     "outputs": []
    },
    {
     "cell_type": "markdown",
     "metadata": {},
     "source": [
      "<h4>Dictionaries</h4>"
     ]
    },
    {
     "cell_type": "markdown",
     "metadata": {},
     "source": [
      "Dictionaries are a collection that uses pairs of keys and values. Dictionaries are created using curley braces {key:value}. Dictionaries are useful because they allow values to be indexed by arbirary keys. Because the keys are not always ordered integers, slicing is less useful"
     ]
    },
    {
     "cell_type": "code",
     "collapsed": false,
     "input": [
      "my_dictionary = {'pi':3.14, 'h_bar':1.04*10**-34, 'c':3*10**8}\n",
      "print my_dictionary"
     ],
     "language": "python",
     "metadata": {},
     "outputs": []
    },
    {
     "cell_type": "code",
     "collapsed": false,
     "input": [
      "my_dictionary['c']"
     ],
     "language": "python",
     "metadata": {},
     "outputs": []
    },
    {
     "cell_type": "markdown",
     "metadata": {},
     "source": [
      "Dictionaries cannot be added just like arrays, tuples, and strings. Instead, you must add the items from each dictionary and create a new dictionary or update one of the dictionaries to contain the other."
     ]
    },
    {
     "cell_type": "code",
     "collapsed": false,
     "input": [
      "dictionary_2={'e':1.6*10**-19}\n",
      "\n",
      "print dict(my_dictionary.items() + dictionary_2.items())\n",
      "\n",
      "my_dictionary.update(dictionary_2)\n",
      "print my_dictionary"
     ],
     "language": "python",
     "metadata": {},
     "outputs": []
    },
    {
     "cell_type": "markdown",
     "metadata": {},
     "source": [
      "<h3>Control Flow</h3>"
     ]
    },
    {
     "cell_type": "markdown",
     "metadata": {},
     "source": [
      "Like other programming languages, Python can control the flow of code using if, than, else, while, and for loops. However, the syntax for these loops is very different in Python. Many other programing languages ignore whitespace (spaces, tabs, returns, etc.), but in Python whitespace is used as a part of the language. This simplifies the code because if, while, and for loops are typically indented any way. Why not make the indentation part of the code."
     ]
    },
    {
     "cell_type": "markdown",
     "metadata": {},
     "source": [
      "<h4>If, elif, else</h4>"
     ]
    },
    {
     "cell_type": "markdown",
     "metadata": {},
     "source": [
      "The <code>if</code> statement is one of the most important control flow tools in any programing language. In Python these statements are written like this:"
     ]
    },
    {
     "cell_type": "code",
     "collapsed": false,
     "input": [
      "condition = True\n",
      "\n",
      "if condition:\n",
      "    1+1\n",
      "    print \"Yahoo!\""
     ],
     "language": "python",
     "metadata": {},
     "outputs": []
    },
    {
     "cell_type": "markdown",
     "metadata": {},
     "source": [
      "They begin with <code>if</code> followed by an expression that evaluates to a bool (note that Python will convert 0 and 1 to a bool for you). Typically this is some sort of comparison statement. The condition expression is followed by a colon : and the if statement resumes on the next line. The next line is indented exactly four spaces (in many editors including IPython, Tab is already set to four spaces. The if statment continues as long as the lines are indented."
     ]
    },
    {
     "cell_type": "markdown",
     "metadata": {},
     "source": [
      "In some cases we want to check whether multiple conditions are true. In Python <code>elif</code> is short for else if."
     ]
    },
    {
     "cell_type": "code",
     "collapsed": false,
     "input": [
      "x=1\n",
      "\n",
      "if x==0:\n",
      "    print \"Yahoo!\"\n",
      "elif x <= 0.25:\n",
      "    print \"Small\"\n",
      "elif x <= 0.5:\n",
      "    print \"Medium\"\n",
      "elif x <= 0.75:\n",
      "    print \"Large\"\n",
      "elif x <= 1.:\n",
      "    print \"Extra Large\""
     ],
     "language": "python",
     "metadata": {},
     "outputs": []
    },
    {
     "cell_type": "markdown",
     "metadata": {},
     "source": [
      "Notice how each <code>elif</code> begins with the same level of indentation as the <code>if</code> statement and ends with a colon. Also notice how the code within each <code>elif</code> statment is also indented four spaces. An <code>if</code> statement can include any number of <code>elif</code> statments or none at all. We can also add an <code>else</code> statement for when all the cases fail."
     ]
    },
    {
     "cell_type": "code",
     "collapsed": false,
     "input": [
      "x=2\n",
      "\n",
      "if x==0:\n",
      "    print \"Yahoo!\"\n",
      "elif x <= 0.25:\n",
      "    print \"Small\"\n",
      "elif x <= 0.5:\n",
      "    print \"Medium\"\n",
      "elif x <= 0.75:\n",
      "    print \"Large\"\n",
      "elif x <= 1.:\n",
      "    print \"Extra Large\"\n",
      "else:\n",
      "    print \"Too Big\""
     ],
     "language": "python",
     "metadata": {},
     "outputs": []
    },
    {
     "cell_type": "markdown",
     "metadata": {},
     "source": [
      "<h4>While</h4>"
     ]
    },
    {
     "cell_type": "markdown",
     "metadata": {},
     "source": [
      "In Python, <code>while</code> take the same form. While loops are loops of code that repeat over an over again as long as the condition is met."
     ]
    },
    {
     "cell_type": "code",
     "collapsed": false,
     "input": [
      "sleepiness = 0\n",
      "\n",
      "while(sleepiness < 10): \n",
      "    print \"Do awesome physics\" \n",
      "    sleepiness += 1 # add 1 to sleepiness"
     ],
     "language": "python",
     "metadata": {},
     "outputs": []
    },
    {
     "cell_type": "markdown",
     "metadata": {},
     "source": [
      "<h4>For</h4>"
     ]
    },
    {
     "cell_type": "markdown",
     "metadata": {},
     "source": [
      "Python for loops are a little different than other for loops in that they iterate over a sequence. The follow a syntax similar to what we saw with if statements and while loops."
     ]
    },
    {
     "cell_type": "code",
     "collapsed": false,
     "input": [
      "colors = ['red', 'blue', 'green', 'yellow', 'violet', 'orange', 'black', 'white']\n",
      "\n",
      "for color in colors:\n",
      "    print 'The paper is ' + color + '.'"
     ],
     "language": "python",
     "metadata": {},
     "outputs": []
    },
    {
     "cell_type": "markdown",
     "metadata": {},
     "source": [
      "Once again notice the colon and the indentation. Notice how you can almost read the code as a sentence (For color in colors, print ...). This can give you a good hint as to whether you have chosen good variable names."
     ]
    },
    {
     "cell_type": "markdown",
     "metadata": {},
     "source": [
      "For both <code>for</code> and <code>while</code> loops there are a couple of useful commands. The first is <code>break</code>. When a <code>break</code> is encountered, the program exits the loop and moves on to the next lines of the progam. The second is <code>continue</code>. When <code>continue</code> is encountered, the programs stops the current step through the loop and moves on to the next step."
     ]
    },
    {
     "cell_type": "code",
     "collapsed": false,
     "input": [
      "colors = ['red', 'blue', 'green', 'yellow', 'violet', 'orange', 'black', 'white']\n",
      "\n",
      "for color in colors:\n",
      "    if color[0] == 'o':\n",
      "        break\n",
      "    print 'The paper is ' + color + '.'"
     ],
     "language": "python",
     "metadata": {},
     "outputs": []
    },
    {
     "cell_type": "code",
     "collapsed": false,
     "input": [
      "colors = ['red', 'blue', 'green', 'yellow', 'violet', 'orange', 'black', 'white']\n",
      "\n",
      "for color in colors:\n",
      "    if color[0] == 'b':\n",
      "        continue\n",
      "    print 'The paper is ' + color + '.'"
     ],
     "language": "python",
     "metadata": {},
     "outputs": []
    },
    {
     "cell_type": "markdown",
     "metadata": {},
     "source": [
      "<h3>List Comprehension</h3>"
     ]
    },
    {
     "cell_type": "markdown",
     "metadata": {},
     "source": [
      "Many times throughout the quarter we will want to create a new list by performing some operation of every element of another list. We could do this with a <code>while</code> or a <code>for</code> loop."
     ]
    },
    {
     "cell_type": "code",
     "collapsed": false,
     "input": [
      "index=0\n",
      "\n",
      "x_list = [-3.,-2.,-1.,0.,1.,2.,3.]\n",
      "y_list = []\n",
      "\n",
      "while index < len(x_list):\n",
      "    y_list.append(x_list[index]*x_list[index])\n",
      "    index +=1\n",
      "\n",
      "print y_list"
     ],
     "language": "python",
     "metadata": {},
     "outputs": []
    },
    {
     "cell_type": "code",
     "collapsed": false,
     "input": [
      "y_list = []\n",
      "\n",
      "for x in x_list:\n",
      "    y.append(x*x)\n",
      "\n",
      "print y"
     ],
     "language": "python",
     "metadata": {},
     "outputs": []
    },
    {
     "cell_type": "markdown",
     "metadata": {},
     "source": [
      "Because this type of operation is so common, Python includes a method for performing this type of operation in a single line. This is called list comprehension and takes the syntax <code>[y for x in sequence] as shown."
     ]
    },
    {
     "cell_type": "code",
     "collapsed": false,
     "input": [
      "y_list_2 = [x*x for x in x_list]\n",
      "\n",
      "print y_list"
     ],
     "language": "python",
     "metadata": {},
     "outputs": []
    },
    {
     "cell_type": "markdown",
     "metadata": {},
     "source": [
      "This is a much cleaner way of performing this operation and does not require us to declare the y list beforehand. As you will see in the exercies, list comprehension is typically much faster that a <code>for</code> or <code>while</code> loop and should be used whenever possible."
     ]
    },
    {
     "cell_type": "markdown",
     "metadata": {},
     "source": [
      "<h2>Exercises</h2>"
     ]
    },
    {
     "cell_type": "markdown",
     "metadata": {},
     "source": [
      "<h3>Problem 1</h3>"
     ]
    },
    {
     "cell_type": "markdown",
     "metadata": {},
     "source": [
      "Open a new terminal window. Type <code>python</code> and press ENTER. The first line tells you what version of Python your computer is running and realease date for that code. Edit the cell below to show which version of Python your machine is running."
     ]
    },
    {
     "cell_type": "markdown",
     "metadata": {},
     "source": [
      "Python Version:"
     ]
    },
    {
     "cell_type": "markdown",
     "metadata": {},
     "source": [
      "Your promt should have changed to a triple greater than sign. This is the Python prompt and can you can run any Python commands through the prompt. Code can only be entered one line at a time. Pressing ENTER will run the current line of code. Evaluate the following arithmetic operations using the Python prompt. Edit the cells to include your result."
     ]
    },
    {
     "cell_type": "markdown",
     "metadata": {},
     "source": [
      "a) 35.84 + 39.08 = ?"
     ]
    },
    {
     "cell_type": "markdown",
     "metadata": {},
     "source": [
      "b) 1,000,000 / 30. = ?"
     ]
    },
    {
     "cell_type": "markdown",
     "metadata": {},
     "source": [
      "c)  \t-17<sup>2</sup> \u2013 1348=?"
     ]
    },
    {
     "cell_type": "markdown",
     "metadata": {},
     "source": [
      "d) "
     ]
    },
    {
     "cell_type": "markdown",
     "metadata": {},
     "source": [
      "e)    418.12 x 6 \u2013 312.18=?"
     ]
    },
    {
     "cell_type": "markdown",
     "metadata": {},
     "source": [
      "To exit the Python prompt, use the <code>quit()</code> command."
     ]
    },
    {
     "cell_type": "markdown",
     "metadata": {},
     "source": [
      "<h3>Problem 2</h3>"
     ]
    },
    {
     "cell_type": "markdown",
     "metadata": {},
     "source": [
      "Find the sum of all positive integers up to 1000, which are divisible by 5 and are not divisible by 2. "
     ]
    },
    {
     "cell_type": "markdown",
     "metadata": {},
     "source": [
      "a) Using a <code>while</code> loop."
     ]
    },
    {
     "cell_type": "code",
     "collapsed": false,
     "input": [],
     "language": "python",
     "metadata": {},
     "outputs": []
    },
    {
     "cell_type": "markdown",
     "metadata": {},
     "source": [
      "b) Using a <code>for</code> loop. Hint: Python's <code>range()</code> command will be helpful for generating the sequence you need. To learn more about <code>range()</code> see https://docs.python.org/2/library/functions.html#range ."
     ]
    },
    {
     "cell_type": "code",
     "collapsed": false,
     "input": [],
     "language": "python",
     "metadata": {},
     "outputs": []
    },
    {
     "cell_type": "markdown",
     "metadata": {},
     "source": [
      "<h3>Problem 3</h3>"
     ]
    },
    {
     "cell_type": "markdown",
     "metadata": {},
     "source": [
      "a) Find the number of words is the Gettysburg Address"
     ]
    },
    {
     "cell_type": "code",
     "collapsed": false,
     "input": [
      "Gettysburg_Address = \" Four score and seven years ago our fathers\\\n",
      " brought forth on this continent, a new nation, conceived in Liberty,\\\n",
      " and dedicated to the proposition that all men are created equal.\\\n",
      " Now we are engaged in a great civil war, testing whether that nation,\\\n",
      " or any nation so conceived and so dedicated, can long endure. We\\\n",
      " are met on a great battle-field of that war. We have come to dedicate\\\n",
      " a portion of that field, as a final resting place for those who here\\\n",
      " gave their lives that that nation might live. It is altogether fitting\\\n",
      " and proper that we should do this. But, in a larger sense, we can not\\\n",
      " dedicate -- we can not consecrate -- we can not hallow -- this ground.\\\n",
      " The brave men, living and dead, who struggled here, have consecrated\\\n",
      " it, far above our poor power to add or detract. The world will little\\\n",
      " note, nor long remember what we say here, but it can never forget what\\\n",
      " they did here. It is for us the living, rather, to be dedicated here\\\n",
      " to the unfinished work which they who fought here have thus far so\\\n",
      " nobly advanced. It is rather for us to be here dedicated to the great\\\n",
      " task remaining before us -- that from these honored dead we take\\\n",
      " increased devotion to that cause for which they gave the last full\\\n",
      " measure of devotion -- that we here highly resolve that these dead\\\n",
      " shall not have died in vain -- that this nation, under God, shall have\\\n",
      " a new birth of freedom -- and that government of the people, by the\\\n",
      " people, for the people, shall not perish from the earth.\""
     ],
     "language": "python",
     "metadata": {},
     "outputs": []
    },
    {
     "cell_type": "code",
     "collapsed": false,
     "input": [],
     "language": "python",
     "metadata": {},
     "outputs": []
    },
    {
     "cell_type": "markdown",
     "metadata": {},
     "source": [
      "b) Find the number of times the letter e or E is used in the first half of the Gettysburg Address."
     ]
    },
    {
     "cell_type": "code",
     "collapsed": false,
     "input": [],
     "language": "python",
     "metadata": {},
     "outputs": []
    },
    {
     "cell_type": "markdown",
     "metadata": {},
     "source": [
      "c) Find the number of times the letter e or E is used in the second half of the Gettysburg Address."
     ]
    },
    {
     "cell_type": "code",
     "collapsed": false,
     "input": [],
     "language": "python",
     "metadata": {},
     "outputs": []
    },
    {
     "cell_type": "markdown",
     "metadata": {},
     "source": [
      "<h3>Problem 4</h3>"
     ]
    },
    {
     "cell_type": "markdown",
     "metadata": {},
     "source": [
      "One of the great things about programming is that there are so many ways you can do the exact same thing; however, this creates the problem of deciding which way to do something. Typically we want to way that is the fastest; no one likes to wait around for code to run. IPython has a \"magic\" fuction that can be used to determine how long a peice of code takes to run. IPython magic functions start with the percent sign <code>%</code>. We will introduce more of these magic functions throughout the quarter. Use the magic function <code>%%timeit</code> to determine which is the fastest way to generate a new list containing the squares of a list of 100 floats. <code>%%timeit</code> will give you an estimate of the amount of time needed to run a cell. Try using a <code>while</code> loop, <code>for</code> loop, and list comprehension."
     ]
    },
    {
     "cell_type": "code",
     "collapsed": false,
     "input": [
      "floats = [0., 1., 2., 3., 4., 5., 6., 7., 8., 9.,\n",
      "          10., 11., 12., 13., 14., 15., 16., 17., 18., 19.,\n",
      "          20., 21., 22., 23., 24., 25., 26., 27., 28., 29.,\n",
      "          30., 31., 32., 33., 34., 35., 36., 37., 38., 39.,\n",
      "          40., 41., 42., 43., 44., 45., 46., 47., 48., 49.,\n",
      "          50., 51., 52., 53., 54., 55., 56., 57., 58., 59.,\n",
      "          60., 61., 62., 63., 64., 65., 66., 67., 68., 69.,\n",
      "          70., 71., 72., 73., 74., 75., 76., 77., 78., 79.,\n",
      "          80., 81., 82., 83., 84., 85., 86., 87., 88., 89.,\n",
      "          90., 91., 92., 93., 94., 95., 96., 97., 98., 99.]"
     ],
     "language": "python",
     "metadata": {},
     "outputs": []
    },
    {
     "cell_type": "markdown",
     "metadata": {},
     "source": [
      "<h4>While loop</h4>"
     ]
    },
    {
     "cell_type": "code",
     "collapsed": false,
     "input": [
      "%%timeit\n"
     ],
     "language": "python",
     "metadata": {},
     "outputs": []
    },
    {
     "cell_type": "markdown",
     "metadata": {},
     "source": [
      "<h4>For loop</h4>"
     ]
    },
    {
     "cell_type": "code",
     "collapsed": false,
     "input": [
      "%%timeit\n"
     ],
     "language": "python",
     "metadata": {},
     "outputs": []
    },
    {
     "cell_type": "markdown",
     "metadata": {},
     "source": [
      "<h4>List comprehension</h4>"
     ]
    },
    {
     "cell_type": "code",
     "collapsed": false,
     "input": [
      "%%timeit\n",
      "\n"
     ],
     "language": "python",
     "metadata": {},
     "outputs": []
    },
    {
     "cell_type": "markdown",
     "metadata": {},
     "source": [
      "Speed Up Tip: Try using <code>x&#42;x</code> instead of <code>x**2</code>."
     ]
    }
   ],
   "metadata": {}
  }
 ]
}